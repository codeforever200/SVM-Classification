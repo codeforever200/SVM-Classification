{
 "cells": [
  {
   "cell_type": "markdown",
   "metadata": {
    "colab_type": "text",
    "id": "1uiVlkbEACEs"
   },
   "source": [
    "# SVM Classification"
   ]
  },
  {
   "cell_type": "raw",
   "metadata": {},
   "source": [
    "This is an implementation of Linear SVM Classification model. A Social Network Advertisement dataset has been used here which consists of three columns. The first two columns are the independent variables, namely the ‘Age ’and the ‘EstimatedSalary’ and the last column is the dependent variable ‘Purchased’, which is in the binary format denoting whether the individual has bought the product (1) or not (0).\n",
    "A SVM Classification model has been made that will classify whether a user of a particular age and with a particular salary will buy the given product or not."
   ]
  },
  {
   "cell_type": "markdown",
   "metadata": {
    "colab_type": "text",
    "id": "8km8KkLfAWUp"
   },
   "source": [
    "## Importing the libraries"
   ]
  },
  {
   "cell_type": "code",
   "execution_count": 1,
   "metadata": {
    "colab": {},
    "colab_type": "code",
    "id": "DcgY_1dEJImV"
   },
   "outputs": [],
   "source": [
    "import numpy as np\n",
    "import matplotlib.pyplot as plt\n",
    "import pandas as pd"
   ]
  },
  {
   "cell_type": "markdown",
   "metadata": {
    "colab_type": "text",
    "id": "nNAat0OaAZLC"
   },
   "source": [
    "## Importing the dataset"
   ]
  },
  {
   "cell_type": "code",
   "execution_count": 4,
   "metadata": {
    "colab": {
     "base_uri": "https://localhost:8080/",
     "height": 204
    },
    "colab_type": "code",
    "id": "b7ixaKWwANY3",
    "outputId": "642fcd07-8ef3-49c2-b48c-41f169de5866"
   },
   "outputs": [
    {
     "data": {
      "text/html": [
       "<div>\n",
       "<style scoped>\n",
       "    .dataframe tbody tr th:only-of-type {\n",
       "        vertical-align: middle;\n",
       "    }\n",
       "\n",
       "    .dataframe tbody tr th {\n",
       "        vertical-align: top;\n",
       "    }\n",
       "\n",
       "    .dataframe thead th {\n",
       "        text-align: right;\n",
       "    }\n",
       "</style>\n",
       "<table border=\"1\" class=\"dataframe\">\n",
       "  <thead>\n",
       "    <tr style=\"text-align: right;\">\n",
       "      <th></th>\n",
       "      <th>Age</th>\n",
       "      <th>EstimatedSalary</th>\n",
       "      <th>Purchased</th>\n",
       "    </tr>\n",
       "  </thead>\n",
       "  <tbody>\n",
       "    <tr>\n",
       "      <th>0</th>\n",
       "      <td>19</td>\n",
       "      <td>19000</td>\n",
       "      <td>0</td>\n",
       "    </tr>\n",
       "    <tr>\n",
       "      <th>1</th>\n",
       "      <td>35</td>\n",
       "      <td>20000</td>\n",
       "      <td>0</td>\n",
       "    </tr>\n",
       "    <tr>\n",
       "      <th>2</th>\n",
       "      <td>26</td>\n",
       "      <td>43000</td>\n",
       "      <td>0</td>\n",
       "    </tr>\n",
       "    <tr>\n",
       "      <th>3</th>\n",
       "      <td>27</td>\n",
       "      <td>57000</td>\n",
       "      <td>0</td>\n",
       "    </tr>\n",
       "    <tr>\n",
       "      <th>4</th>\n",
       "      <td>19</td>\n",
       "      <td>76000</td>\n",
       "      <td>0</td>\n",
       "    </tr>\n",
       "  </tbody>\n",
       "</table>\n",
       "</div>"
      ],
      "text/plain": [
       "   Age  EstimatedSalary  Purchased\n",
       "0   19            19000          0\n",
       "1   35            20000          0\n",
       "2   26            43000          0\n",
       "3   27            57000          0\n",
       "4   19            76000          0"
      ]
     },
     "execution_count": 4,
     "metadata": {},
     "output_type": "execute_result"
    }
   ],
   "source": [
    "dataset = pd.read_csv(\"C:/Users/shrit/Documents/SocialNetworkAds.csv\")\n",
    "X = dataset.iloc[:, [0, 1]].values\n",
    "y = dataset.iloc[:, 2].values\n",
    "\n",
    "dataset.head(5)"
   ]
  },
  {
   "cell_type": "markdown",
   "metadata": {
    "colab_type": "text",
    "id": "3r-ohA-T98m9"
   },
   "source": [
    "## Splitting the dataset into the Training set and Test set"
   ]
  },
  {
   "cell_type": "code",
   "execution_count": 5,
   "metadata": {
    "colab": {},
    "colab_type": "code",
    "id": "wxlEmA_Y99H4"
   },
   "outputs": [],
   "source": [
    "from sklearn.model_selection import train_test_split\n",
    "X_train, X_test, y_train, y_test = train_test_split(X, y, test_size = 0.25)"
   ]
  },
  {
   "cell_type": "code",
   "execution_count": null,
   "metadata": {},
   "outputs": [],
   "source": []
  },
  {
   "cell_type": "markdown",
   "metadata": {
    "colab_type": "text",
    "id": "hEdAFtXUQwIk"
   },
   "source": [
    "## Feature Scaling"
   ]
  },
  {
   "cell_type": "code",
   "execution_count": 6,
   "metadata": {
    "colab": {},
    "colab_type": "code",
    "id": "O4LJNqa2Qweu"
   },
   "outputs": [],
   "source": [
    "from sklearn.preprocessing import StandardScaler\n",
    "sc = StandardScaler()\n",
    "X_train = sc.fit_transform(X_train)\n",
    "X_test = sc.transform(X_test)"
   ]
  },
  {
   "cell_type": "markdown",
   "metadata": {
    "colab_type": "text",
    "id": "U-Gcfum-Ayjy"
   },
   "source": [
    "## Training the SVM Classification model on the Training Set"
   ]
  },
  {
   "cell_type": "code",
   "execution_count": 11,
   "metadata": {
    "colab": {
     "base_uri": "https://localhost:8080/",
     "height": 85
    },
    "colab_type": "code",
    "id": "pIvFR_HgA1QK",
    "outputId": "2fbba8dd-737b-431e-a431-18d9fd5d8cc7"
   },
   "outputs": [
    {
     "name": "stdout",
     "output_type": "stream",
     "text": [
      "[[1.7412942  1.02520495]]\n",
      "(2,)\n",
      "[1.7412942  1.02520495]\n"
     ]
    }
   ],
   "source": [
    "from sklearn.svm import SVC\n",
    "classifier = SVC(kernel = 'linear', random_state = 0)\n",
    "classifier.fit(X_train, y_train)\n",
    "\n",
    "print (classifier.coef_)\n",
    "w = classifier.coef_[0]\n",
    "print (w.shape)\n",
    "print (w)\n",
    "a = -w[0] / w[1]\n"
   ]
  },
  {
   "cell_type": "code",
   "execution_count": 13,
   "metadata": {},
   "outputs": [
    {
     "name": "stdout",
     "output_type": "stream",
     "text": [
      "[-5.         -4.79591837 -4.59183673 -4.3877551  -4.18367347 -3.97959184\n",
      " -3.7755102  -3.57142857 -3.36734694 -3.16326531 -2.95918367 -2.75510204\n",
      " -2.55102041 -2.34693878 -2.14285714 -1.93877551 -1.73469388 -1.53061224\n",
      " -1.32653061 -1.12244898 -0.91836735 -0.71428571 -0.51020408 -0.30612245\n",
      " -0.10204082  0.10204082  0.30612245  0.51020408  0.71428571  0.91836735\n",
      "  1.12244898  1.32653061  1.53061224  1.73469388  1.93877551  2.14285714\n",
      "  2.34693878  2.55102041  2.75510204  2.95918367  3.16326531  3.36734694\n",
      "  3.57142857  3.7755102   3.97959184  4.18367347  4.3877551   4.59183673\n",
      "  4.79591837  5.        ]\n",
      "[ 9.38254882  9.03591943  8.68929004  8.34266065  7.99603127  7.64940188\n",
      "  7.30277249  6.95614311  6.60951372  6.26288433  5.91625494  5.56962556\n",
      "  5.22299617  4.87636678  4.52973739  4.18310801  3.83647862  3.48984923\n",
      "  3.14321985  2.79659046  2.44996107  2.10333168  1.7567023   1.41007291\n",
      "  1.06344352  0.71681414  0.37018475  0.02355536 -0.32307403 -0.66970341\n",
      " -1.0163328  -1.36296219 -1.70959157 -2.05622096 -2.40285035 -2.74947974\n",
      " -3.09610912 -3.44273851 -3.7893679  -4.13599729 -4.48262667 -4.82925606\n",
      " -5.17588545 -5.52251483 -5.86914422 -6.21577361 -6.562403   -6.90903238\n",
      " -7.25566177 -7.60229116]\n"
     ]
    }
   ],
   "source": [
    "xx = np.linspace(-5, 5)\n",
    "print (xx)\n",
    "yy = a * xx - (classifier.intercept_[0]) / w[1]\n",
    "print (yy)"
   ]
  },
  {
   "cell_type": "code",
   "execution_count": 14,
   "metadata": {},
   "outputs": [
    {
     "name": "stdout",
     "output_type": "stream",
     "text": [
      "Support vectors  [[ 0.39946291 -0.47452658]\n",
      " [ 1.16034465 -0.76684275]\n",
      " [ 0.01902204  1.22090721]\n",
      " [ 0.77990378 -1.40993833]\n",
      " [ 0.3043527  -0.53298982]\n",
      " [-0.07608817  0.05164252]\n",
      " [ 0.3043527  -0.3283685 ]\n",
      " [-0.36141883  1.30860206]\n",
      " [ 0.01902204  0.02241091]\n",
      " [-0.07608817  0.19780061]\n",
      " [ 0.39946291 -0.5037582 ]\n",
      " [ 0.20924248  0.13933737]\n",
      " [-0.7418597   1.33783367]\n",
      " [ 0.11413226  0.25626384]\n",
      " [ 0.20924248 -0.29913688]\n",
      " [ 0.11413226  0.02241091]\n",
      " [ 0.49457313  1.83477116]\n",
      " [-0.26630861  0.5193484 ]\n",
      " [ 0.77990378  0.34395869]\n",
      " [ 0.3043527   0.05164252]\n",
      " [ 0.97012422  2.0686241 ]\n",
      " [ 0.68479356  0.25626384]\n",
      " [ 0.3043527   0.02241091]\n",
      " [ 0.3043527   0.05164252]\n",
      " [ 0.3043527  -0.29913688]\n",
      " [ 0.20924248 -0.38683173]\n",
      " [ 1.35056509  1.27937044]\n",
      " [ 0.20924248 -0.38683173]\n",
      " [-0.07608817  0.11010576]\n",
      " [-0.26630861  1.10398074]\n",
      " [ 0.20924248 -0.38683173]\n",
      " [ 0.3043527   0.05164252]\n",
      " [ 0.20924248 -0.1529788 ]\n",
      " [-0.07608817  0.28549546]\n",
      " [ 1.25545487  1.86400278]\n",
      " [ 0.39946291 -0.1529788 ]\n",
      " [ 0.77990378  0.75320133]\n",
      " [ 0.875014   -0.6791479 ]\n",
      " [ 0.39946291 -0.1529788 ]\n",
      " [ 0.77990378 -0.3283685 ]\n",
      " [ 0.01902204  0.02241091]\n",
      " [ 0.3043527  -0.21144203]\n",
      " [ 0.3043527  -0.56222143]\n",
      " [ 1.06523443 -0.1529788 ]\n",
      " [ 0.11413226  0.19780061]\n",
      " [-0.07608817  0.13933737]\n",
      " [ 2.01633661 -0.82530599]\n",
      " [ 0.875014   -0.79607437]\n",
      " [ 0.20924248  0.05164252]\n",
      " [ 0.20924248 -0.26990526]\n",
      " [ 0.39946291 -0.47452658]\n",
      " [ 0.39946291  0.13933737]\n",
      " [ 0.3043527  -0.53298982]\n",
      " [-0.45652904  1.25013882]\n",
      " [ 0.20924248 -0.3283685 ]\n",
      " [ 0.3043527   0.28549546]\n",
      " [-0.7418597   1.8932344 ]\n",
      " [ 0.875014   -1.46840156]\n",
      " [ 0.77990378 -0.85453761]\n",
      " [-0.07608817  0.66550648]\n",
      " [-0.55163926  1.45476014]\n",
      " [ 0.97012422 -1.08839054]\n",
      " [ 1.63589574 -0.91300084]\n",
      " [-0.07608817  1.95169763]\n",
      " [-0.17119839  0.84089618]\n",
      " [ 1.16034465 -1.00069569]\n",
      " [ 0.97012422 -1.17608539]\n",
      " [ 0.875014   -1.32224348]\n",
      " [ 0.77990378  0.5193484 ]\n",
      " [ 1.25545487 -1.38070671]\n",
      " [ 0.68479356 -0.73761114]\n",
      " [ 0.39946291  0.28549546]\n",
      " [-0.17119839  1.39629691]\n",
      " [-0.07608817  0.25626384]\n",
      " [ 0.875014   -1.17608539]\n",
      " [ 0.77990378  0.25626384]\n",
      " [-0.83696991  2.27324542]\n",
      " [ 0.875014   -1.38070671]\n",
      " [ 1.16034465 -1.46840156]\n",
      " [ 0.01902204  1.25013882]\n",
      " [-0.7418597   1.07474912]\n",
      " [-0.17119839  2.15631895]\n",
      " [-1.02719035  1.95169763]\n",
      " [ 0.39946291  0.08087414]\n",
      " [ 0.39946291  0.57781163]\n",
      " [ 0.68479356 -1.11762216]\n",
      " [ 1.06523443 -1.23454863]\n",
      " [-0.26630861  2.2440138 ]\n",
      " [ 0.11413226  0.13933737]\n",
      " [-0.07608817 -0.00682071]\n",
      " [-0.55163926  1.36706529]\n",
      " [ 0.11413226  1.0455175 ]\n",
      " [-0.55163926  0.8701278 ]\n",
      " [-0.36141883  1.22090721]\n",
      " [ 0.77990378 -1.38070671]\n",
      " [ 0.11413226  0.75320133]\n",
      " [-0.07608817  0.22703223]\n",
      " [ 0.97012422 -1.20531701]\n",
      " [ 0.875014   -0.56222143]\n",
      " [ 1.82611617 -1.29301186]\n",
      " [ 0.39946291  1.10398074]\n",
      " [ 1.06523443 -0.91300084]\n",
      " [ 1.35056509 -0.94223246]\n",
      " [ 0.97012422 -1.02992731]\n",
      " [ 1.4456753  -1.05915892]\n",
      " [ 0.875014   -1.05915892]\n",
      " [ 1.06523443 -1.00069569]\n",
      " [-0.17119839  1.60091823]\n",
      " [-0.93208013  1.54245499]\n",
      " [ 0.11413226  1.51322338]\n",
      " [ 0.97012422  0.11010576]\n",
      " [ 0.20924248  1.07474912]\n",
      " [-0.55163926  2.33170865]]\n",
      "(113, 2)\n",
      "Support Vectors down [ 0.39946291 -0.47452658]\n",
      "[ 8.2884652   7.94183582  7.59520643  7.24857704  6.90194766  6.55531827\n",
      "  6.20868888  5.86205949  5.51543011  5.16880072  4.82217133  4.47554195\n",
      "  4.12891256  3.78228317  3.43565378  3.0890244   2.74239501  2.39576562\n",
      "  2.04913624  1.70250685  1.35587746  1.00924807  0.66261869  0.3159893\n",
      " -0.03064009 -0.37726948 -0.72389886 -1.07052825 -1.41715764 -1.76378702\n",
      " -2.11041641 -2.4570458  -2.80367519 -3.15030457 -3.49693396 -3.84356335\n",
      " -4.19019273 -4.53682212 -4.88345151 -5.2300809  -5.57671028 -5.92333967\n",
      " -6.26996906 -6.61659844 -6.96322783 -7.30985722 -7.65648661 -8.00311599\n",
      " -8.34974538 -8.69637477]\n"
     ]
    }
   ],
   "source": [
    "print ('Support vectors ', classifier.support_vectors_)\n",
    "b = classifier.support_vectors_[0]\n",
    "print (classifier.support_vectors_.shape)\n",
    "print ('Support Vectors down', b)\n",
    "yy_down = a * xx - (b[1] - a * b[0])\n",
    "print (yy_down)"
   ]
  },
  {
   "cell_type": "code",
   "execution_count": 16,
   "metadata": {},
   "outputs": [
    {
     "name": "stdout",
     "output_type": "stream",
     "text": [
      "Support Vectors up [ 1.16034465 -0.76684275]\n",
      "[ 7.28843592e+00  6.94180653e+00  6.59517714e+00  6.24854776e+00\n",
      "  5.90191837e+00  5.55528898e+00  5.20865960e+00  4.86203021e+00\n",
      "  4.51540082e+00  4.16877143e+00  3.82214205e+00  3.47551266e+00\n",
      "  3.12888327e+00  2.78225388e+00  2.43562450e+00  2.08899511e+00\n",
      "  1.74236572e+00  1.39573634e+00  1.04910695e+00  7.02477562e-01\n",
      "  3.55848174e-01  9.21878723e-03 -3.37410600e-01 -6.84039987e-01\n",
      " -1.03066937e+00 -1.37729876e+00 -1.72392815e+00 -2.07055754e+00\n",
      " -2.41718692e+00 -2.76381631e+00 -3.11044570e+00 -3.45707508e+00\n",
      " -3.80370447e+00 -4.15033386e+00 -4.49696325e+00 -4.84359263e+00\n",
      " -5.19022202e+00 -5.53685141e+00 -5.88348080e+00 -6.23011018e+00\n",
      " -6.57673957e+00 -6.92336896e+00 -7.26999834e+00 -7.61662773e+00\n",
      " -7.96325712e+00 -8.30988651e+00 -8.65651589e+00 -9.00314528e+00\n",
      " -9.34977467e+00 -9.69640405e+00]\n"
     ]
    }
   ],
   "source": [
    "b = classifier.support_vectors_[1]\n",
    "print ('Support Vectors up', b)\n",
    "yy_up = a * xx - (b[1] - a * b[0])\n",
    "print (yy_up)"
   ]
  },
  {
   "cell_type": "code",
   "execution_count": 18,
   "metadata": {},
   "outputs": [
    {
     "name": "stderr",
     "output_type": "stream",
     "text": [
      "c:\\users\\shrit\\appdata\\local\\programs\\python\\python38\\lib\\site-packages\\mlxtend\\plotting\\decision_regions.py:244: UserWarning: No contour levels were found within the data range.\n",
      "  ax.contour(xx, yy, Z, cset.levels,\n"
     ]
    },
    {
     "data": {
      "text/plain": [
       "<AxesSubplot:>"
      ]
     },
     "execution_count": 18,
     "metadata": {},
     "output_type": "execute_result"
    },
    {
     "data": {
      "image/png": "[encoded data removed]",
      "text/plain": [
       "<Figure size 432x288 with 1 Axes>"
      ]
     },
     "metadata": {
      "needs_background": "light"
     },
     "output_type": "display_data"
    }
   ],
   "source": [
    "#Import mlxtend to plot decision region\n",
    "from mlxtend.plotting import plot_decision_regions\n",
    "plot_decision_regions (X, y, clf = classifier)"
   ]
  },
  {
   "cell_type": "code",
   "execution_count": 19,
   "metadata": {},
   "outputs": [
    {
     "data": {
      "image/png": "[encoded data removed]",
      "text/plain": [
       "<Figure size 432x288 with 1 Axes>"
      ]
     },
     "metadata": {
      "needs_background": "light"
     },
     "output_type": "display_data"
    }
   ],
   "source": [
    "#Plot the line, points and nearest vectors to hyperplane\n",
    "plt.scatter(classifier.support_vectors_[:, 0], classifier.support_vectors_[:, 1],s = 80, facecolors = 'none')\n",
    "plt.plot(xx, yy_down, 'k--')\n",
    "plt.plot(xx, yy_up, 'k')\n",
    "plt.xlabel('X1')\n",
    "plt.ylabel('X2')\n",
    "plt.show()"
   ]
  },
  {
   "cell_type": "markdown",
   "metadata": {
    "colab_type": "text",
    "id": "GaXJ_AZxA8NS"
   },
   "source": [
    "## Predicting the Test Set Results"
   ]
  },
  {
   "cell_type": "code",
   "execution_count": 20,
   "metadata": {
    "colab": {
     "base_uri": "https://localhost:8080/",
     "height": 102
    },
    "colab_type": "code",
    "id": "lGrbLcD-A8kD",
    "outputId": "1a2377e8-921c-4c99-d0a3-f37cf6763dfe"
   },
   "outputs": [
    {
     "data": {
      "text/plain": [
       "array([0, 0, 0, 0, 0, 1, 0, 0, 0, 0, 0, 0, 1, 0, 0, 1, 0, 0, 1, 0, 0, 0,\n",
       "       0, 0, 0, 0, 0, 1, 0, 1, 1, 0, 0, 1, 1, 0, 0, 0, 0, 0, 0, 0, 0, 0,\n",
       "       1, 0, 1, 0, 0, 1, 0, 1, 1, 0, 0, 0, 0, 1, 0, 1, 0, 1, 0, 1, 0, 0,\n",
       "       0, 0, 0, 1, 1, 0, 1, 0, 0, 0, 0, 0, 1, 0, 0, 0, 1, 0, 1, 0, 0, 0,\n",
       "       1, 0, 0, 0, 0, 0, 0, 1, 0, 1, 0, 0], dtype=int64)"
      ]
     },
     "execution_count": 20,
     "metadata": {},
     "output_type": "execute_result"
    }
   ],
   "source": [
    "y_pred = classifier.predict(X_test)\n",
    "y_pred"
   ]
  },
  {
   "cell_type": "markdown",
   "metadata": {
    "colab_type": "text",
    "id": "XUm4TVzfRKu7"
   },
   "source": [
    "## Confusion Matrix and Accuracy"
   ]
  },
  {
   "cell_type": "code",
   "execution_count": 21,
   "metadata": {
    "colab": {
     "base_uri": "https://localhost:8080/",
     "height": 68
    },
    "colab_type": "code",
    "id": "QlPCU93IRLH2",
    "outputId": "8fcd620e-36dd-42f4-fb63-ea1569313020"
   },
   "outputs": [
    {
     "name": "stdout",
     "output_type": "stream",
     "text": [
      "Accuracy :  0.8\n"
     ]
    },
    {
     "data": {
      "text/plain": [
       "array([[58,  5],\n",
       "       [15, 22]], dtype=int64)"
      ]
     },
     "execution_count": 21,
     "metadata": {},
     "output_type": "execute_result"
    }
   ],
   "source": [
    "from sklearn.metrics import confusion_matrix\n",
    "cm = confusion_matrix(y_test, y_pred)\n",
    "\n",
    "from sklearn.metrics import accuracy_score \n",
    "print (\"Accuracy : \", accuracy_score(y_test, y_pred))\n",
    "cm "
   ]
  },
  {
   "cell_type": "markdown",
   "metadata": {
    "colab_type": "text",
    "id": "QiJFMensA_Tq"
   },
   "source": [
    "## Comparing the Real Values with Predicted Values"
   ]
  },
  {
   "cell_type": "code",
   "execution_count": 22,
   "metadata": {
    "colab": {
     "base_uri": "https://localhost:8080/",
     "height": 419
    },
    "colab_type": "code",
    "id": "x-kcKkRJA-wt",
    "outputId": "3f0b86e5-32b9-4ec5-9804-9954b102b833"
   },
   "outputs": [
    {
     "data": {
      "text/html": [
       "<div>\n",
       "<style scoped>\n",
       "    .dataframe tbody tr th:only-of-type {\n",
       "        vertical-align: middle;\n",
       "    }\n",
       "\n",
       "    .dataframe tbody tr th {\n",
       "        vertical-align: top;\n",
       "    }\n",
       "\n",
       "    .dataframe thead th {\n",
       "        text-align: right;\n",
       "    }\n",
       "</style>\n",
       "<table border=\"1\" class=\"dataframe\">\n",
       "  <thead>\n",
       "    <tr style=\"text-align: right;\">\n",
       "      <th></th>\n",
       "      <th>Real Values</th>\n",
       "      <th>Predicted Values</th>\n",
       "    </tr>\n",
       "  </thead>\n",
       "  <tbody>\n",
       "    <tr>\n",
       "      <th>0</th>\n",
       "      <td>0</td>\n",
       "      <td>0</td>\n",
       "    </tr>\n",
       "    <tr>\n",
       "      <th>1</th>\n",
       "      <td>0</td>\n",
       "      <td>0</td>\n",
       "    </tr>\n",
       "    <tr>\n",
       "      <th>2</th>\n",
       "      <td>0</td>\n",
       "      <td>0</td>\n",
       "    </tr>\n",
       "    <tr>\n",
       "      <th>3</th>\n",
       "      <td>0</td>\n",
       "      <td>0</td>\n",
       "    </tr>\n",
       "    <tr>\n",
       "      <th>4</th>\n",
       "      <td>0</td>\n",
       "      <td>0</td>\n",
       "    </tr>\n",
       "    <tr>\n",
       "      <th>...</th>\n",
       "      <td>...</td>\n",
       "      <td>...</td>\n",
       "    </tr>\n",
       "    <tr>\n",
       "      <th>95</th>\n",
       "      <td>1</td>\n",
       "      <td>1</td>\n",
       "    </tr>\n",
       "    <tr>\n",
       "      <th>96</th>\n",
       "      <td>0</td>\n",
       "      <td>0</td>\n",
       "    </tr>\n",
       "    <tr>\n",
       "      <th>97</th>\n",
       "      <td>0</td>\n",
       "      <td>1</td>\n",
       "    </tr>\n",
       "    <tr>\n",
       "      <th>98</th>\n",
       "      <td>0</td>\n",
       "      <td>0</td>\n",
       "    </tr>\n",
       "    <tr>\n",
       "      <th>99</th>\n",
       "      <td>0</td>\n",
       "      <td>0</td>\n",
       "    </tr>\n",
       "  </tbody>\n",
       "</table>\n",
       "<p>100 rows × 2 columns</p>\n",
       "</div>"
      ],
      "text/plain": [
       "    Real Values  Predicted Values\n",
       "0             0                 0\n",
       "1             0                 0\n",
       "2             0                 0\n",
       "3             0                 0\n",
       "4             0                 0\n",
       "..          ...               ...\n",
       "95            1                 1\n",
       "96            0                 0\n",
       "97            0                 1\n",
       "98            0                 0\n",
       "99            0                 0\n",
       "\n",
       "[100 rows x 2 columns]"
      ]
     },
     "execution_count": 22,
     "metadata": {},
     "output_type": "execute_result"
    }
   ],
   "source": [
    "df = pd.DataFrame({'Real Values':y_test.reshape(-1), 'Predicted Values':y_pred.reshape(-1)})\n",
    "df"
   ]
  },
  {
   "cell_type": "markdown",
   "metadata": {
    "colab_type": "text",
    "id": "yXRwaPVABCRy"
   },
   "source": [
    "## Visualising the Results"
   ]
  },
  {
   "cell_type": "code",
   "execution_count": 23,
   "metadata": {
    "colab": {
     "base_uri": "https://localhost:8080/",
     "height": 349
    },
    "colab_type": "code",
    "id": "zkm9qHUPBDPU",
    "outputId": "9618ab2d-f500-478f-b46d-780e61150f4a"
   },
   "outputs": [
    {
     "name": "stderr",
     "output_type": "stream",
     "text": [
      "*c* argument looks like a single numeric RGB or RGBA sequence, which should be avoided as value-mapping will have precedence in case its length matches with *x* & *y*.  Please use the *color* keyword-argument or provide a 2-D array with a single row if you intend to specify the same RGB or RGBA value for all points.\n",
      "*c* argument looks like a single numeric RGB or RGBA sequence, which should be avoided as value-mapping will have precedence in case its length matches with *x* & *y*.  Please use the *color* keyword-argument or provide a 2-D array with a single row if you intend to specify the same RGB or RGBA value for all points.\n"
     ]
    },
    {
     "data": {
      "image/png": "[encoded data removed]",
      "text/plain": [
       "<Figure size 432x288 with 1 Axes>"
      ]
     },
     "metadata": {
      "needs_background": "light"
     },
     "output_type": "display_data"
    }
   ],
   "source": [
    "from matplotlib.colors import ListedColormap\n",
    "X_set, y_set = X_test, y_test\n",
    "X1, X2 = np.meshgrid(np.arange(start = X_set[:, 0].min() - 1, stop = X_set[:, 0].max() + 1, step = 0.01),\n",
    "                     np.arange(start = X_set[:, 1].min() - 1, stop = X_set[:, 1].max() + 1, step = 0.01))\n",
    "plt.contourf(X1, X2, classifier.predict(np.array([X1.ravel(), X2.ravel()]).T).reshape(X1.shape),\n",
    "             alpha = 0.75, cmap = ListedColormap(('red', 'green')))\n",
    "plt.xlim(X1.min(), X1.max())\n",
    "plt.ylim(X2.min(), X2.max())\n",
    "for i, j in enumerate(np.unique(y_set)):\n",
    "    plt.scatter(X_set[y_set == j, 0], X_set[y_set == j, 1],\n",
    "                c = ListedColormap(('red', 'green'))(i), label = j)\n",
    "plt.title('SVM Classification')\n",
    "plt.xlabel('Age')\n",
    "plt.ylabel('EstimatedSalary')\n",
    "plt.legend()\n",
    "plt.show()"
   ]
  },
  {
   "cell_type": "code",
   "execution_count": null,
   "metadata": {},
   "outputs": [],
   "source": []
  }
 ],
 "metadata": {
  "colab": {
   "collapsed_sections": [],
   "name": "SVM_Classification.ipynb",
   "provenance": []
  },
  "kernelspec": {
   "display_name": "Python 3",
   "language": "python",
   "name": "python3"
  },
  "language_info": {
   "codemirror_mode": {
    "name": "ipython",
    "version": 3
   },
   "file_extension": ".py",
   "mimetype": "text/x-python",
   "name": "python",
   "nbconvert_exporter": "python",
   "pygments_lexer": "ipython3",
   "version": "3.8.6rc1"
  }
 },
 "nbformat": 4,
 "nbformat_minor": 1
}
